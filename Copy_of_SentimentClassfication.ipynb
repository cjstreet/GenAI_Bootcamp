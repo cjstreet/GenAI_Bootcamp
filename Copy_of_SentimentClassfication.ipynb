{
  "cells": [
    {
      "cell_type": "markdown",
      "metadata": {
        "id": "234b4683"
      },
      "source": [
        "# Sentiment Classification of Product Reviews Using RNNs"
      ],
      "id": "234b4683"
    },
    {
      "cell_type": "markdown",
      "metadata": {
        "id": "6224533d"
      },
      "source": [
        "## Read and Explore the dataset"
      ],
      "id": "6224533d"
    },
    {
      "cell_type": "markdown",
      "metadata": {
        "id": "2ClwOo6oNA3n"
      },
      "source": [
        "Explore the dataset\n",
        "\n",
        "Data Manipulations - Data Processing\n",
        "\n",
        "Cleaning\n",
        "\n",
        "Tokenize the reviews\n",
        "\n",
        "Convert this into tensor. Array\n",
        "\n",
        "Padding for small reviews\n",
        "\n",
        "Build a model and train the model\n",
        "\n",
        "Predict the sentiments\n"
      ],
      "id": "2ClwOo6oNA3n"
    },
    {
      "cell_type": "code",
      "execution_count": 2,
      "metadata": {
        "id": "58f5c56f"
      },
      "outputs": [],
      "source": [
        "import warnings\n",
        "warnings.filterwarnings('ignore')"
      ],
      "id": "58f5c56f"
    },
    {
      "cell_type": "code",
      "execution_count": 3,
      "metadata": {
        "id": "c1f983e5"
      },
      "outputs": [],
      "source": [
        "import pandas as pd\n",
        "import numpy as np\n",
        "import re"
      ],
      "id": "c1f983e5"
    },
    {
      "cell_type": "code",
      "execution_count": 4,
      "metadata": {
        "id": "VaNVnDIZK1d_"
      },
      "outputs": [],
      "source": [
        "# from google.colab import drive\n",
        "# drive.mount(\"/content/drive/\")"
      ],
      "id": "VaNVnDIZK1d_"
    },
    {
      "cell_type": "code",
      "execution_count": 5,
      "metadata": {
        "colab": {
          "base_uri": "https://localhost:8080/"
        },
        "id": "zjVbjwKbYWwk",
        "outputId": "4e8ea630-09a8-46df-da9f-638053e044cd"
      },
      "outputs": [
        {
          "output_type": "stream",
          "name": "stdout",
          "text": [
            "Writing get_data.sh\n"
          ]
        }
      ],
      "source": [
        "%%writefile get_data.sh\n",
        "if [ ! -f amazon_product_reviews_mod.csv ]; then\n",
        "  wget -O amazon_product_reviews_mod.csv https://www.dropbox.com/scl/fi/imdwnlb4b617hfrepik8c/amazon_product_reviews_mod.csv?rlkey=3oafw8jsifa74v8hsvsuhcf77&dl=0\n",
        "fi"
      ],
      "id": "zjVbjwKbYWwk"
    },
    {
      "cell_type": "code",
      "execution_count": 6,
      "metadata": {
        "colab": {
          "base_uri": "https://localhost:8080/"
        },
        "id": "fBK2w87uYX4M",
        "outputId": "c04f6b0b-cb0b-4764-f9d1-9236c708507a"
      },
      "outputs": [
        {
          "output_type": "stream",
          "name": "stdout",
          "text": [
            "--2024-02-29 14:24:24--  https://www.dropbox.com/scl/fi/imdwnlb4b617hfrepik8c/amazon_product_reviews_mod.csv?rlkey=3oafw8jsifa74v8hsvsuhcf77\n",
            "Resolving www.dropbox.com (www.dropbox.com)... 162.125.4.18, 2620:100:6019:18::a27d:412\n",
            "Connecting to www.dropbox.com (www.dropbox.com)|162.125.4.18|:443... connected.\n",
            "HTTP request sent, awaiting response... 302 Found\n",
            "Location: https://ucdfdd01adc6482fad248650d857.dl.dropboxusercontent.com/cd/0/inline/CONZSZhMWwGzPdWZrlEBgsYuT1nxicC5FIZwPTWp984Vnxr2LGHGjNp2tlqqN5vJCkkvKU6-xnQGgVd5c-862Jf36Df4zpNKdePwAl52qq5qV0urtb50wQ-QXWJ9LEu5ZfvO4cHuME3O9p1_amMXbJ-n/file# [following]\n",
            "--2024-02-29 14:24:25--  https://ucdfdd01adc6482fad248650d857.dl.dropboxusercontent.com/cd/0/inline/CONZSZhMWwGzPdWZrlEBgsYuT1nxicC5FIZwPTWp984Vnxr2LGHGjNp2tlqqN5vJCkkvKU6-xnQGgVd5c-862Jf36Df4zpNKdePwAl52qq5qV0urtb50wQ-QXWJ9LEu5ZfvO4cHuME3O9p1_amMXbJ-n/file\n",
            "Resolving ucdfdd01adc6482fad248650d857.dl.dropboxusercontent.com (ucdfdd01adc6482fad248650d857.dl.dropboxusercontent.com)... 162.125.6.15, 2620:100:6019:15::a27d:40f\n",
            "Connecting to ucdfdd01adc6482fad248650d857.dl.dropboxusercontent.com (ucdfdd01adc6482fad248650d857.dl.dropboxusercontent.com)|162.125.6.15|:443... connected.\n",
            "HTTP request sent, awaiting response... 200 OK\n",
            "Length: 4905395 (4.7M) [text/plain]\n",
            "Saving to: ‘amazon_product_reviews_mod.csv’\n",
            "\n",
            "amazon_product_revi 100%[===================>]   4.68M  6.90MB/s    in 0.7s    \n",
            "\n",
            "2024-02-29 14:24:26 (6.90 MB/s) - ‘amazon_product_reviews_mod.csv’ saved [4905395/4905395]\n",
            "\n"
          ]
        }
      ],
      "source": [
        "!bash get_data.sh"
      ],
      "id": "fBK2w87uYX4M"
    },
    {
      "cell_type": "code",
      "execution_count": 7,
      "metadata": {
        "id": "6XTCiYPbQtxA"
      },
      "outputs": [],
      "source": [
        "#cd 'drive/My Drive'"
      ],
      "id": "6XTCiYPbQtxA"
    },
    {
      "cell_type": "markdown",
      "metadata": {
        "id": "65c67f1d"
      },
      "source": [
        "We already downloaded the dataset from [here](https://www.kaggle.com/datasets/datafiniti/consumer-reviews-of-amazon-products?select=1429_1.csv) and saved it as a CSV file which we'll read now using Pandas."
      ],
      "id": "65c67f1d"
    },
    {
      "cell_type": "code",
      "execution_count": 8,
      "metadata": {
        "id": "2ef39fe5"
      },
      "outputs": [],
      "source": [
        "#path = 'HousePricePrediction.csv.csv'\n",
        "df = pd.read_csv('amazon_product_reviews_mod.csv')"
      ],
      "id": "2ef39fe5"
    },
    {
      "cell_type": "code",
      "execution_count": 9,
      "metadata": {
        "colab": {
          "base_uri": "https://localhost:8080/"
        },
        "id": "a809651f",
        "outputId": "96aab614-e9bb-435e-806c-944e7a6415b0"
      },
      "outputs": [
        {
          "output_type": "execute_result",
          "data": {
            "text/plain": [
              "(28332, 4)"
            ]
          },
          "metadata": {},
          "execution_count": 9
        }
      ],
      "source": [
        "df.shape"
      ],
      "id": "a809651f"
    },
    {
      "cell_type": "code",
      "execution_count": 10,
      "metadata": {
        "colab": {
          "base_uri": "https://localhost:8080/"
        },
        "id": "24c23cd2",
        "outputId": "1c594fef-a49e-45aa-b19e-7b97d0043b28"
      },
      "outputs": [
        {
          "output_type": "execute_result",
          "data": {
            "text/plain": [
              "reviews.rating                                                      5\n",
              "reviews.text        I find amazon basics batteries to be equal if ...\n",
              "reviews.title       ... find amazon basics batteries to be equal i...\n",
              "reviews.username                                             ByTXcust\n",
              "Name: 10, dtype: object"
            ]
          },
          "metadata": {},
          "execution_count": 10
        }
      ],
      "source": [
        "df.iloc[10]"
      ],
      "id": "24c23cd2"
    },
    {
      "cell_type": "code",
      "execution_count": 11,
      "metadata": {
        "colab": {
          "base_uri": "https://localhost:8080/"
        },
        "id": "4e1af566",
        "outputId": "8363ee0e-f322-4abb-de8d-eb7beac44740"
      },
      "outputs": [
        {
          "output_type": "stream",
          "name": "stdout",
          "text": [
            "1\n",
            "These are terrible. Don't last Put then in various items and their life is only 1/2 half of a Duracell\n"
          ]
        }
      ],
      "source": [
        "print(df.iloc[1000][\"reviews.rating\"])\n",
        "print(df.iloc[1000][\"reviews.text\"])"
      ],
      "id": "4e1af566"
    },
    {
      "cell_type": "code",
      "execution_count": 12,
      "metadata": {
        "colab": {
          "base_uri": "https://localhost:8080/"
        },
        "id": "04185a30",
        "outputId": "ee36eeba-7c2f-490c-e7c1-d76a10690fe6"
      },
      "outputs": [
        {
          "output_type": "stream",
          "name": "stdout",
          "text": [
            "5\n",
            "Had to chose between Fire 10 and Fire 8. For the money, you can't go wrong with the Fire 8. Screen is good for \" older eyes\".\n"
          ]
        }
      ],
      "source": [
        "print(df.iloc[27162][\"reviews.rating\"])\n",
        "print(df.iloc[27162][\"reviews.text\"])"
      ],
      "id": "04185a30"
    },
    {
      "cell_type": "markdown",
      "metadata": {
        "id": "eef30c1e"
      },
      "source": [
        "## Data Manipulations"
      ],
      "id": "eef30c1e"
    },
    {
      "cell_type": "code",
      "execution_count": 13,
      "metadata": {
        "id": "66739e54"
      },
      "outputs": [],
      "source": [
        "reviews_df = df[[\"reviews.text\", \"reviews.rating\",]]\n",
        "reviews_df.columns = [\"review\", \"rating\"]"
      ],
      "id": "66739e54"
    },
    {
      "cell_type": "code",
      "execution_count": 14,
      "metadata": {
        "colab": {
          "base_uri": "https://localhost:8080/",
          "height": 363
        },
        "id": "629dec13",
        "outputId": "2440df8e-7f3d-4311-9ce8-5fb48588d348"
      },
      "outputs": [
        {
          "output_type": "execute_result",
          "data": {
            "text/plain": [
              "                                              review  rating\n",
              "0  I order 3 of them and one of the item is bad q...       3\n",
              "1  Bulk is always the less expensive way to go fo...       4\n",
              "2  Well they are not Duracell but for the price i...       5\n",
              "3  Seem to work as well as name brand batteries a...       5\n",
              "4  These batteries are very long lasting the pric...       5\n",
              "5  Bought a lot of batteries for Christmas and th...       5\n",
              "6  ive not had any problame with these batteries ...       5\n",
              "7  Well if you are looking for cheap non-recharge...       5\n",
              "8  These do not hold the amount of high power jui...       3\n",
              "9  AmazonBasics AA AAA batteries have done well b...       4"
            ],
            "text/html": [
              "\n",
              "  <div id=\"df-1f77a90f-aaac-4efc-a264-900b1a595cf0\" class=\"colab-df-container\">\n",
              "    <div>\n",
              "<style scoped>\n",
              "    .dataframe tbody tr th:only-of-type {\n",
              "        vertical-align: middle;\n",
              "    }\n",
              "\n",
              "    .dataframe tbody tr th {\n",
              "        vertical-align: top;\n",
              "    }\n",
              "\n",
              "    .dataframe thead th {\n",
              "        text-align: right;\n",
              "    }\n",
              "</style>\n",
              "<table border=\"1\" class=\"dataframe\">\n",
              "  <thead>\n",
              "    <tr style=\"text-align: right;\">\n",
              "      <th></th>\n",
              "      <th>review</th>\n",
              "      <th>rating</th>\n",
              "    </tr>\n",
              "  </thead>\n",
              "  <tbody>\n",
              "    <tr>\n",
              "      <th>0</th>\n",
              "      <td>I order 3 of them and one of the item is bad q...</td>\n",
              "      <td>3</td>\n",
              "    </tr>\n",
              "    <tr>\n",
              "      <th>1</th>\n",
              "      <td>Bulk is always the less expensive way to go fo...</td>\n",
              "      <td>4</td>\n",
              "    </tr>\n",
              "    <tr>\n",
              "      <th>2</th>\n",
              "      <td>Well they are not Duracell but for the price i...</td>\n",
              "      <td>5</td>\n",
              "    </tr>\n",
              "    <tr>\n",
              "      <th>3</th>\n",
              "      <td>Seem to work as well as name brand batteries a...</td>\n",
              "      <td>5</td>\n",
              "    </tr>\n",
              "    <tr>\n",
              "      <th>4</th>\n",
              "      <td>These batteries are very long lasting the pric...</td>\n",
              "      <td>5</td>\n",
              "    </tr>\n",
              "    <tr>\n",
              "      <th>5</th>\n",
              "      <td>Bought a lot of batteries for Christmas and th...</td>\n",
              "      <td>5</td>\n",
              "    </tr>\n",
              "    <tr>\n",
              "      <th>6</th>\n",
              "      <td>ive not had any problame with these batteries ...</td>\n",
              "      <td>5</td>\n",
              "    </tr>\n",
              "    <tr>\n",
              "      <th>7</th>\n",
              "      <td>Well if you are looking for cheap non-recharge...</td>\n",
              "      <td>5</td>\n",
              "    </tr>\n",
              "    <tr>\n",
              "      <th>8</th>\n",
              "      <td>These do not hold the amount of high power jui...</td>\n",
              "      <td>3</td>\n",
              "    </tr>\n",
              "    <tr>\n",
              "      <th>9</th>\n",
              "      <td>AmazonBasics AA AAA batteries have done well b...</td>\n",
              "      <td>4</td>\n",
              "    </tr>\n",
              "  </tbody>\n",
              "</table>\n",
              "</div>\n",
              "    <div class=\"colab-df-buttons\">\n",
              "\n",
              "  <div class=\"colab-df-container\">\n",
              "    <button class=\"colab-df-convert\" onclick=\"convertToInteractive('df-1f77a90f-aaac-4efc-a264-900b1a595cf0')\"\n",
              "            title=\"Convert this dataframe to an interactive table.\"\n",
              "            style=\"display:none;\">\n",
              "\n",
              "  <svg xmlns=\"http://www.w3.org/2000/svg\" height=\"24px\" viewBox=\"0 -960 960 960\">\n",
              "    <path d=\"M120-120v-720h720v720H120Zm60-500h600v-160H180v160Zm220 220h160v-160H400v160Zm0 220h160v-160H400v160ZM180-400h160v-160H180v160Zm440 0h160v-160H620v160ZM180-180h160v-160H180v160Zm440 0h160v-160H620v160Z\"/>\n",
              "  </svg>\n",
              "    </button>\n",
              "\n",
              "  <style>\n",
              "    .colab-df-container {\n",
              "      display:flex;\n",
              "      gap: 12px;\n",
              "    }\n",
              "\n",
              "    .colab-df-convert {\n",
              "      background-color: #E8F0FE;\n",
              "      border: none;\n",
              "      border-radius: 50%;\n",
              "      cursor: pointer;\n",
              "      display: none;\n",
              "      fill: #1967D2;\n",
              "      height: 32px;\n",
              "      padding: 0 0 0 0;\n",
              "      width: 32px;\n",
              "    }\n",
              "\n",
              "    .colab-df-convert:hover {\n",
              "      background-color: #E2EBFA;\n",
              "      box-shadow: 0px 1px 2px rgba(60, 64, 67, 0.3), 0px 1px 3px 1px rgba(60, 64, 67, 0.15);\n",
              "      fill: #174EA6;\n",
              "    }\n",
              "\n",
              "    .colab-df-buttons div {\n",
              "      margin-bottom: 4px;\n",
              "    }\n",
              "\n",
              "    [theme=dark] .colab-df-convert {\n",
              "      background-color: #3B4455;\n",
              "      fill: #D2E3FC;\n",
              "    }\n",
              "\n",
              "    [theme=dark] .colab-df-convert:hover {\n",
              "      background-color: #434B5C;\n",
              "      box-shadow: 0px 1px 3px 1px rgba(0, 0, 0, 0.15);\n",
              "      filter: drop-shadow(0px 1px 2px rgba(0, 0, 0, 0.3));\n",
              "      fill: #FFFFFF;\n",
              "    }\n",
              "  </style>\n",
              "\n",
              "    <script>\n",
              "      const buttonEl =\n",
              "        document.querySelector('#df-1f77a90f-aaac-4efc-a264-900b1a595cf0 button.colab-df-convert');\n",
              "      buttonEl.style.display =\n",
              "        google.colab.kernel.accessAllowed ? 'block' : 'none';\n",
              "\n",
              "      async function convertToInteractive(key) {\n",
              "        const element = document.querySelector('#df-1f77a90f-aaac-4efc-a264-900b1a595cf0');\n",
              "        const dataTable =\n",
              "          await google.colab.kernel.invokeFunction('convertToInteractive',\n",
              "                                                    [key], {});\n",
              "        if (!dataTable) return;\n",
              "\n",
              "        const docLinkHtml = 'Like what you see? Visit the ' +\n",
              "          '<a target=\"_blank\" href=https://colab.research.google.com/notebooks/data_table.ipynb>data table notebook</a>'\n",
              "          + ' to learn more about interactive tables.';\n",
              "        element.innerHTML = '';\n",
              "        dataTable['output_type'] = 'display_data';\n",
              "        await google.colab.output.renderOutput(dataTable, element);\n",
              "        const docLink = document.createElement('div');\n",
              "        docLink.innerHTML = docLinkHtml;\n",
              "        element.appendChild(docLink);\n",
              "      }\n",
              "    </script>\n",
              "  </div>\n",
              "\n",
              "\n",
              "<div id=\"df-6da5cb35-07db-4ac3-926d-6a358d4357f1\">\n",
              "  <button class=\"colab-df-quickchart\" onclick=\"quickchart('df-6da5cb35-07db-4ac3-926d-6a358d4357f1')\"\n",
              "            title=\"Suggest charts\"\n",
              "            style=\"display:none;\">\n",
              "\n",
              "<svg xmlns=\"http://www.w3.org/2000/svg\" height=\"24px\"viewBox=\"0 0 24 24\"\n",
              "     width=\"24px\">\n",
              "    <g>\n",
              "        <path d=\"M19 3H5c-1.1 0-2 .9-2 2v14c0 1.1.9 2 2 2h14c1.1 0 2-.9 2-2V5c0-1.1-.9-2-2-2zM9 17H7v-7h2v7zm4 0h-2V7h2v10zm4 0h-2v-4h2v4z\"/>\n",
              "    </g>\n",
              "</svg>\n",
              "  </button>\n",
              "\n",
              "<style>\n",
              "  .colab-df-quickchart {\n",
              "      --bg-color: #E8F0FE;\n",
              "      --fill-color: #1967D2;\n",
              "      --hover-bg-color: #E2EBFA;\n",
              "      --hover-fill-color: #174EA6;\n",
              "      --disabled-fill-color: #AAA;\n",
              "      --disabled-bg-color: #DDD;\n",
              "  }\n",
              "\n",
              "  [theme=dark] .colab-df-quickchart {\n",
              "      --bg-color: #3B4455;\n",
              "      --fill-color: #D2E3FC;\n",
              "      --hover-bg-color: #434B5C;\n",
              "      --hover-fill-color: #FFFFFF;\n",
              "      --disabled-bg-color: #3B4455;\n",
              "      --disabled-fill-color: #666;\n",
              "  }\n",
              "\n",
              "  .colab-df-quickchart {\n",
              "    background-color: var(--bg-color);\n",
              "    border: none;\n",
              "    border-radius: 50%;\n",
              "    cursor: pointer;\n",
              "    display: none;\n",
              "    fill: var(--fill-color);\n",
              "    height: 32px;\n",
              "    padding: 0;\n",
              "    width: 32px;\n",
              "  }\n",
              "\n",
              "  .colab-df-quickchart:hover {\n",
              "    background-color: var(--hover-bg-color);\n",
              "    box-shadow: 0 1px 2px rgba(60, 64, 67, 0.3), 0 1px 3px 1px rgba(60, 64, 67, 0.15);\n",
              "    fill: var(--button-hover-fill-color);\n",
              "  }\n",
              "\n",
              "  .colab-df-quickchart-complete:disabled,\n",
              "  .colab-df-quickchart-complete:disabled:hover {\n",
              "    background-color: var(--disabled-bg-color);\n",
              "    fill: var(--disabled-fill-color);\n",
              "    box-shadow: none;\n",
              "  }\n",
              "\n",
              "  .colab-df-spinner {\n",
              "    border: 2px solid var(--fill-color);\n",
              "    border-color: transparent;\n",
              "    border-bottom-color: var(--fill-color);\n",
              "    animation:\n",
              "      spin 1s steps(1) infinite;\n",
              "  }\n",
              "\n",
              "  @keyframes spin {\n",
              "    0% {\n",
              "      border-color: transparent;\n",
              "      border-bottom-color: var(--fill-color);\n",
              "      border-left-color: var(--fill-color);\n",
              "    }\n",
              "    20% {\n",
              "      border-color: transparent;\n",
              "      border-left-color: var(--fill-color);\n",
              "      border-top-color: var(--fill-color);\n",
              "    }\n",
              "    30% {\n",
              "      border-color: transparent;\n",
              "      border-left-color: var(--fill-color);\n",
              "      border-top-color: var(--fill-color);\n",
              "      border-right-color: var(--fill-color);\n",
              "    }\n",
              "    40% {\n",
              "      border-color: transparent;\n",
              "      border-right-color: var(--fill-color);\n",
              "      border-top-color: var(--fill-color);\n",
              "    }\n",
              "    60% {\n",
              "      border-color: transparent;\n",
              "      border-right-color: var(--fill-color);\n",
              "    }\n",
              "    80% {\n",
              "      border-color: transparent;\n",
              "      border-right-color: var(--fill-color);\n",
              "      border-bottom-color: var(--fill-color);\n",
              "    }\n",
              "    90% {\n",
              "      border-color: transparent;\n",
              "      border-bottom-color: var(--fill-color);\n",
              "    }\n",
              "  }\n",
              "</style>\n",
              "\n",
              "  <script>\n",
              "    async function quickchart(key) {\n",
              "      const quickchartButtonEl =\n",
              "        document.querySelector('#' + key + ' button');\n",
              "      quickchartButtonEl.disabled = true;  // To prevent multiple clicks.\n",
              "      quickchartButtonEl.classList.add('colab-df-spinner');\n",
              "      try {\n",
              "        const charts = await google.colab.kernel.invokeFunction(\n",
              "            'suggestCharts', [key], {});\n",
              "      } catch (error) {\n",
              "        console.error('Error during call to suggestCharts:', error);\n",
              "      }\n",
              "      quickchartButtonEl.classList.remove('colab-df-spinner');\n",
              "      quickchartButtonEl.classList.add('colab-df-quickchart-complete');\n",
              "    }\n",
              "    (() => {\n",
              "      let quickchartButtonEl =\n",
              "        document.querySelector('#df-6da5cb35-07db-4ac3-926d-6a358d4357f1 button');\n",
              "      quickchartButtonEl.style.display =\n",
              "        google.colab.kernel.accessAllowed ? 'block' : 'none';\n",
              "    })();\n",
              "  </script>\n",
              "</div>\n",
              "\n",
              "    </div>\n",
              "  </div>\n"
            ],
            "application/vnd.google.colaboratory.intrinsic+json": {
              "type": "dataframe",
              "variable_name": "reviews_df",
              "summary": "{\n  \"name\": \"reviews_df\",\n  \"rows\": 28332,\n  \"fields\": [\n    {\n      \"column\": \"review\",\n      \"properties\": {\n        \"dtype\": \"string\",\n        \"num_unique_values\": 18168,\n        \"samples\": [\n          \"Lets see how long the last. If they don't last long, I will lower the rating.\",\n          \"I am never buying brand name batteries again.\",\n          \"My second amazon fire 8 collection and I love it. Always wait for black Friday on this deals.\"\n        ],\n        \"semantic_type\": \"\",\n        \"description\": \"\"\n      }\n    },\n    {\n      \"column\": \"rating\",\n      \"properties\": {\n        \"dtype\": \"number\",\n        \"std\": 0,\n        \"min\": 1,\n        \"max\": 5,\n        \"num_unique_values\": 5,\n        \"samples\": [\n          4,\n          2,\n          5\n        ],\n        \"semantic_type\": \"\",\n        \"description\": \"\"\n      }\n    }\n  ]\n}"
            }
          },
          "metadata": {},
          "execution_count": 14
        }
      ],
      "source": [
        "reviews_df.head(10)"
      ],
      "id": "629dec13"
    },
    {
      "cell_type": "code",
      "execution_count": 15,
      "metadata": {
        "colab": {
          "base_uri": "https://localhost:8080/"
        },
        "id": "15777d3c",
        "outputId": "21908746-5103-4bba-ee77-ad25dd364c8a"
      },
      "outputs": [
        {
          "output_type": "execute_result",
          "data": {
            "text/plain": [
              "review    0\n",
              "rating    0\n",
              "dtype: int64"
            ]
          },
          "metadata": {},
          "execution_count": 15
        }
      ],
      "source": [
        "reviews_df.isnull().sum()"
      ],
      "id": "15777d3c"
    },
    {
      "cell_type": "code",
      "execution_count": 16,
      "metadata": {
        "id": "73e22b36"
      },
      "outputs": [],
      "source": [
        "reviews_df.dropna(inplace=True)"
      ],
      "id": "73e22b36"
    },
    {
      "cell_type": "code",
      "execution_count": 17,
      "metadata": {
        "id": "ccba4d40"
      },
      "outputs": [],
      "source": [
        "def sentiments(rating):\n",
        "    if (rating == 5) or (rating == 4):\n",
        "        return \"positive\"\n",
        "    elif rating == 3:\n",
        "        return \"neutral\"\n",
        "    elif (rating == 2) or (rating == 1):\n",
        "        return \"negative\""
      ],
      "id": "ccba4d40"
    },
    {
      "cell_type": "code",
      "execution_count": 18,
      "metadata": {
        "id": "161dbf9d"
      },
      "outputs": [],
      "source": [
        "reviews_df[\"sentiment\"] = reviews_df[\"rating\"].apply(sentiments)"
      ],
      "id": "161dbf9d"
    },
    {
      "cell_type": "code",
      "execution_count": 19,
      "metadata": {
        "colab": {
          "base_uri": "https://localhost:8080/",
          "height": 363
        },
        "id": "1c2fc1ad",
        "outputId": "f80385e6-006a-4858-8ccb-f388a5af70db"
      },
      "outputs": [
        {
          "output_type": "execute_result",
          "data": {
            "text/plain": [
              "                                              review  rating sentiment\n",
              "0  perfect for plane rides. the product operates ...       5  positive\n",
              "1  This suited my exact needs which was a mobile ...       5  positive\n",
              "2                           Seem to last a long time       4  positive\n",
              "3  I never owned a Kindle before. This was easy t...       5  positive\n",
              "4   good batteries for the price. i will order again       5  positive\n",
              "5  I realized after purchasing that the reason yo...       1  negative\n",
              "6  I do a lot of international travelling, so I h...       5  positive\n",
              "7  Bought one of these two weeks before on Amazon...       5  positive\n",
              "8  I reccomend this tabley yo every one. I purcha...       5  positive\n",
              "9  My granddaughter loved her tablet and the colo...       5  positive"
            ],
            "text/html": [
              "\n",
              "  <div id=\"df-9fcbbca8-b4d2-4ad5-96b2-f71e855ccb78\" class=\"colab-df-container\">\n",
              "    <div>\n",
              "<style scoped>\n",
              "    .dataframe tbody tr th:only-of-type {\n",
              "        vertical-align: middle;\n",
              "    }\n",
              "\n",
              "    .dataframe tbody tr th {\n",
              "        vertical-align: top;\n",
              "    }\n",
              "\n",
              "    .dataframe thead th {\n",
              "        text-align: right;\n",
              "    }\n",
              "</style>\n",
              "<table border=\"1\" class=\"dataframe\">\n",
              "  <thead>\n",
              "    <tr style=\"text-align: right;\">\n",
              "      <th></th>\n",
              "      <th>review</th>\n",
              "      <th>rating</th>\n",
              "      <th>sentiment</th>\n",
              "    </tr>\n",
              "  </thead>\n",
              "  <tbody>\n",
              "    <tr>\n",
              "      <th>0</th>\n",
              "      <td>perfect for plane rides. the product operates ...</td>\n",
              "      <td>5</td>\n",
              "      <td>positive</td>\n",
              "    </tr>\n",
              "    <tr>\n",
              "      <th>1</th>\n",
              "      <td>This suited my exact needs which was a mobile ...</td>\n",
              "      <td>5</td>\n",
              "      <td>positive</td>\n",
              "    </tr>\n",
              "    <tr>\n",
              "      <th>2</th>\n",
              "      <td>Seem to last a long time</td>\n",
              "      <td>4</td>\n",
              "      <td>positive</td>\n",
              "    </tr>\n",
              "    <tr>\n",
              "      <th>3</th>\n",
              "      <td>I never owned a Kindle before. This was easy t...</td>\n",
              "      <td>5</td>\n",
              "      <td>positive</td>\n",
              "    </tr>\n",
              "    <tr>\n",
              "      <th>4</th>\n",
              "      <td>good batteries for the price. i will order again</td>\n",
              "      <td>5</td>\n",
              "      <td>positive</td>\n",
              "    </tr>\n",
              "    <tr>\n",
              "      <th>5</th>\n",
              "      <td>I realized after purchasing that the reason yo...</td>\n",
              "      <td>1</td>\n",
              "      <td>negative</td>\n",
              "    </tr>\n",
              "    <tr>\n",
              "      <th>6</th>\n",
              "      <td>I do a lot of international travelling, so I h...</td>\n",
              "      <td>5</td>\n",
              "      <td>positive</td>\n",
              "    </tr>\n",
              "    <tr>\n",
              "      <th>7</th>\n",
              "      <td>Bought one of these two weeks before on Amazon...</td>\n",
              "      <td>5</td>\n",
              "      <td>positive</td>\n",
              "    </tr>\n",
              "    <tr>\n",
              "      <th>8</th>\n",
              "      <td>I reccomend this tabley yo every one. I purcha...</td>\n",
              "      <td>5</td>\n",
              "      <td>positive</td>\n",
              "    </tr>\n",
              "    <tr>\n",
              "      <th>9</th>\n",
              "      <td>My granddaughter loved her tablet and the colo...</td>\n",
              "      <td>5</td>\n",
              "      <td>positive</td>\n",
              "    </tr>\n",
              "  </tbody>\n",
              "</table>\n",
              "</div>\n",
              "    <div class=\"colab-df-buttons\">\n",
              "\n",
              "  <div class=\"colab-df-container\">\n",
              "    <button class=\"colab-df-convert\" onclick=\"convertToInteractive('df-9fcbbca8-b4d2-4ad5-96b2-f71e855ccb78')\"\n",
              "            title=\"Convert this dataframe to an interactive table.\"\n",
              "            style=\"display:none;\">\n",
              "\n",
              "  <svg xmlns=\"http://www.w3.org/2000/svg\" height=\"24px\" viewBox=\"0 -960 960 960\">\n",
              "    <path d=\"M120-120v-720h720v720H120Zm60-500h600v-160H180v160Zm220 220h160v-160H400v160Zm0 220h160v-160H400v160ZM180-400h160v-160H180v160Zm440 0h160v-160H620v160ZM180-180h160v-160H180v160Zm440 0h160v-160H620v160Z\"/>\n",
              "  </svg>\n",
              "    </button>\n",
              "\n",
              "  <style>\n",
              "    .colab-df-container {\n",
              "      display:flex;\n",
              "      gap: 12px;\n",
              "    }\n",
              "\n",
              "    .colab-df-convert {\n",
              "      background-color: #E8F0FE;\n",
              "      border: none;\n",
              "      border-radius: 50%;\n",
              "      cursor: pointer;\n",
              "      display: none;\n",
              "      fill: #1967D2;\n",
              "      height: 32px;\n",
              "      padding: 0 0 0 0;\n",
              "      width: 32px;\n",
              "    }\n",
              "\n",
              "    .colab-df-convert:hover {\n",
              "      background-color: #E2EBFA;\n",
              "      box-shadow: 0px 1px 2px rgba(60, 64, 67, 0.3), 0px 1px 3px 1px rgba(60, 64, 67, 0.15);\n",
              "      fill: #174EA6;\n",
              "    }\n",
              "\n",
              "    .colab-df-buttons div {\n",
              "      margin-bottom: 4px;\n",
              "    }\n",
              "\n",
              "    [theme=dark] .colab-df-convert {\n",
              "      background-color: #3B4455;\n",
              "      fill: #D2E3FC;\n",
              "    }\n",
              "\n",
              "    [theme=dark] .colab-df-convert:hover {\n",
              "      background-color: #434B5C;\n",
              "      box-shadow: 0px 1px 3px 1px rgba(0, 0, 0, 0.15);\n",
              "      filter: drop-shadow(0px 1px 2px rgba(0, 0, 0, 0.3));\n",
              "      fill: #FFFFFF;\n",
              "    }\n",
              "  </style>\n",
              "\n",
              "    <script>\n",
              "      const buttonEl =\n",
              "        document.querySelector('#df-9fcbbca8-b4d2-4ad5-96b2-f71e855ccb78 button.colab-df-convert');\n",
              "      buttonEl.style.display =\n",
              "        google.colab.kernel.accessAllowed ? 'block' : 'none';\n",
              "\n",
              "      async function convertToInteractive(key) {\n",
              "        const element = document.querySelector('#df-9fcbbca8-b4d2-4ad5-96b2-f71e855ccb78');\n",
              "        const dataTable =\n",
              "          await google.colab.kernel.invokeFunction('convertToInteractive',\n",
              "                                                    [key], {});\n",
              "        if (!dataTable) return;\n",
              "\n",
              "        const docLinkHtml = 'Like what you see? Visit the ' +\n",
              "          '<a target=\"_blank\" href=https://colab.research.google.com/notebooks/data_table.ipynb>data table notebook</a>'\n",
              "          + ' to learn more about interactive tables.';\n",
              "        element.innerHTML = '';\n",
              "        dataTable['output_type'] = 'display_data';\n",
              "        await google.colab.output.renderOutput(dataTable, element);\n",
              "        const docLink = document.createElement('div');\n",
              "        docLink.innerHTML = docLinkHtml;\n",
              "        element.appendChild(docLink);\n",
              "      }\n",
              "    </script>\n",
              "  </div>\n",
              "\n",
              "\n",
              "<div id=\"df-c8eb67a2-d012-4cb0-a77a-430d65648f11\">\n",
              "  <button class=\"colab-df-quickchart\" onclick=\"quickchart('df-c8eb67a2-d012-4cb0-a77a-430d65648f11')\"\n",
              "            title=\"Suggest charts\"\n",
              "            style=\"display:none;\">\n",
              "\n",
              "<svg xmlns=\"http://www.w3.org/2000/svg\" height=\"24px\"viewBox=\"0 0 24 24\"\n",
              "     width=\"24px\">\n",
              "    <g>\n",
              "        <path d=\"M19 3H5c-1.1 0-2 .9-2 2v14c0 1.1.9 2 2 2h14c1.1 0 2-.9 2-2V5c0-1.1-.9-2-2-2zM9 17H7v-7h2v7zm4 0h-2V7h2v10zm4 0h-2v-4h2v4z\"/>\n",
              "    </g>\n",
              "</svg>\n",
              "  </button>\n",
              "\n",
              "<style>\n",
              "  .colab-df-quickchart {\n",
              "      --bg-color: #E8F0FE;\n",
              "      --fill-color: #1967D2;\n",
              "      --hover-bg-color: #E2EBFA;\n",
              "      --hover-fill-color: #174EA6;\n",
              "      --disabled-fill-color: #AAA;\n",
              "      --disabled-bg-color: #DDD;\n",
              "  }\n",
              "\n",
              "  [theme=dark] .colab-df-quickchart {\n",
              "      --bg-color: #3B4455;\n",
              "      --fill-color: #D2E3FC;\n",
              "      --hover-bg-color: #434B5C;\n",
              "      --hover-fill-color: #FFFFFF;\n",
              "      --disabled-bg-color: #3B4455;\n",
              "      --disabled-fill-color: #666;\n",
              "  }\n",
              "\n",
              "  .colab-df-quickchart {\n",
              "    background-color: var(--bg-color);\n",
              "    border: none;\n",
              "    border-radius: 50%;\n",
              "    cursor: pointer;\n",
              "    display: none;\n",
              "    fill: var(--fill-color);\n",
              "    height: 32px;\n",
              "    padding: 0;\n",
              "    width: 32px;\n",
              "  }\n",
              "\n",
              "  .colab-df-quickchart:hover {\n",
              "    background-color: var(--hover-bg-color);\n",
              "    box-shadow: 0 1px 2px rgba(60, 64, 67, 0.3), 0 1px 3px 1px rgba(60, 64, 67, 0.15);\n",
              "    fill: var(--button-hover-fill-color);\n",
              "  }\n",
              "\n",
              "  .colab-df-quickchart-complete:disabled,\n",
              "  .colab-df-quickchart-complete:disabled:hover {\n",
              "    background-color: var(--disabled-bg-color);\n",
              "    fill: var(--disabled-fill-color);\n",
              "    box-shadow: none;\n",
              "  }\n",
              "\n",
              "  .colab-df-spinner {\n",
              "    border: 2px solid var(--fill-color);\n",
              "    border-color: transparent;\n",
              "    border-bottom-color: var(--fill-color);\n",
              "    animation:\n",
              "      spin 1s steps(1) infinite;\n",
              "  }\n",
              "\n",
              "  @keyframes spin {\n",
              "    0% {\n",
              "      border-color: transparent;\n",
              "      border-bottom-color: var(--fill-color);\n",
              "      border-left-color: var(--fill-color);\n",
              "    }\n",
              "    20% {\n",
              "      border-color: transparent;\n",
              "      border-left-color: var(--fill-color);\n",
              "      border-top-color: var(--fill-color);\n",
              "    }\n",
              "    30% {\n",
              "      border-color: transparent;\n",
              "      border-left-color: var(--fill-color);\n",
              "      border-top-color: var(--fill-color);\n",
              "      border-right-color: var(--fill-color);\n",
              "    }\n",
              "    40% {\n",
              "      border-color: transparent;\n",
              "      border-right-color: var(--fill-color);\n",
              "      border-top-color: var(--fill-color);\n",
              "    }\n",
              "    60% {\n",
              "      border-color: transparent;\n",
              "      border-right-color: var(--fill-color);\n",
              "    }\n",
              "    80% {\n",
              "      border-color: transparent;\n",
              "      border-right-color: var(--fill-color);\n",
              "      border-bottom-color: var(--fill-color);\n",
              "    }\n",
              "    90% {\n",
              "      border-color: transparent;\n",
              "      border-bottom-color: var(--fill-color);\n",
              "    }\n",
              "  }\n",
              "</style>\n",
              "\n",
              "  <script>\n",
              "    async function quickchart(key) {\n",
              "      const quickchartButtonEl =\n",
              "        document.querySelector('#' + key + ' button');\n",
              "      quickchartButtonEl.disabled = true;  // To prevent multiple clicks.\n",
              "      quickchartButtonEl.classList.add('colab-df-spinner');\n",
              "      try {\n",
              "        const charts = await google.colab.kernel.invokeFunction(\n",
              "            'suggestCharts', [key], {});\n",
              "      } catch (error) {\n",
              "        console.error('Error during call to suggestCharts:', error);\n",
              "      }\n",
              "      quickchartButtonEl.classList.remove('colab-df-spinner');\n",
              "      quickchartButtonEl.classList.add('colab-df-quickchart-complete');\n",
              "    }\n",
              "    (() => {\n",
              "      let quickchartButtonEl =\n",
              "        document.querySelector('#df-c8eb67a2-d012-4cb0-a77a-430d65648f11 button');\n",
              "      quickchartButtonEl.style.display =\n",
              "        google.colab.kernel.accessAllowed ? 'block' : 'none';\n",
              "    })();\n",
              "  </script>\n",
              "</div>\n",
              "\n",
              "    </div>\n",
              "  </div>\n"
            ],
            "application/vnd.google.colaboratory.intrinsic+json": {
              "type": "dataframe",
              "summary": "{\n  \"name\": \"reviews_df\",\n  \"rows\": 10,\n  \"fields\": [\n    {\n      \"column\": \"review\",\n      \"properties\": {\n        \"dtype\": \"string\",\n        \"num_unique_values\": 10,\n        \"samples\": [\n          \"I reccomend this tabley yo every one. I purchased it for my brorher and he live it.\",\n          \"This suited my exact needs which was a mobile way of watching netflix.\",\n          \"I realized after purchasing that the reason you get so many for such great price is because it takes the entire box to equate to one 12 pack of more expensive batteries. The life on these is terrible! I've used them in everything from remote controls to kid toys and they run out VERY fast. Go ahead and spend the extra money for a better quality battery.\"\n        ],\n        \"semantic_type\": \"\",\n        \"description\": \"\"\n      }\n    },\n    {\n      \"column\": \"rating\",\n      \"properties\": {\n        \"dtype\": \"number\",\n        \"std\": 1,\n        \"min\": 1,\n        \"max\": 5,\n        \"num_unique_values\": 3,\n        \"samples\": [\n          5,\n          4,\n          1\n        ],\n        \"semantic_type\": \"\",\n        \"description\": \"\"\n      }\n    },\n    {\n      \"column\": \"sentiment\",\n      \"properties\": {\n        \"dtype\": \"category\",\n        \"num_unique_values\": 2,\n        \"samples\": [\n          \"negative\",\n          \"positive\"\n        ],\n        \"semantic_type\": \"\",\n        \"description\": \"\"\n      }\n    }\n  ]\n}"
            }
          },
          "metadata": {},
          "execution_count": 19
        }
      ],
      "source": [
        "reviews_df.sample(10, random_state = 86, ignore_index=True)"
      ],
      "id": "1c2fc1ad"
    },
    {
      "cell_type": "code",
      "execution_count": 20,
      "metadata": {
        "colab": {
          "base_uri": "https://localhost:8080/"
        },
        "id": "103c002e",
        "outputId": "7e6f75ec-6753-4e32-d3a7-d6820f8a8104"
      },
      "outputs": [
        {
          "output_type": "stream",
          "name": "stdout",
          "text": [
            "['neutral' 'positive' 'positive' 'positive' 'positive']\n",
            "\n",
            "\n",
            "['I order 3 of them and one of the item is bad quality. Is missing backup spring so I have to put a pcs of aluminum to make the battery work.'\n",
            " 'Bulk is always the less expensive way to go for products like these'\n",
            " 'Well they are not Duracell but for the price i am happy.'\n",
            " 'Seem to work as well as name brand batteries at a much better price'\n",
            " 'These batteries are very long lasting the price is great.']\n"
          ]
        }
      ],
      "source": [
        "sentiments = reviews_df[\"sentiment\"].values\n",
        "reviews = reviews_df[\"review\"].values\n",
        "print(sentiments[0:5])\n",
        "print(\"\\n\")\n",
        "print(reviews[0:5])"
      ],
      "id": "103c002e"
    },
    {
      "cell_type": "markdown",
      "metadata": {
        "id": "1d0857c0"
      },
      "source": [
        "## Convert text categories into one-hot encoded vector"
      ],
      "id": "1d0857c0"
    },
    {
      "cell_type": "markdown",
      "metadata": {
        "id": "d370c7df"
      },
      "source": [
        "We are importing keras utils here, this will be needed to convert the labels to one-hot encoded vectors. We'll use the the function \"to_categorical\" from this library to do this. To know more about this function, please check out this [link](https://www.tensorflow.org/api_docs/python/tf/keras/utils/to_categorical)."
      ],
      "id": "d370c7df"
    },
    {
      "cell_type": "markdown",
      "metadata": {
        "id": "4h0r_NLwa8JU"
      },
      "source": [
        "1. Tensorflow\n",
        "2. PyTorch\n",
        "3. Keras"
      ],
      "id": "4h0r_NLwa8JU"
    },
    {
      "cell_type": "markdown",
      "metadata": {
        "id": "8b4N6adSJZBZ"
      },
      "source": [
        "%pip install tensorflow"
      ],
      "id": "8b4N6adSJZBZ"
    },
    {
      "cell_type": "code",
      "execution_count": 21,
      "metadata": {
        "id": "56091da1"
      },
      "outputs": [],
      "source": [
        "import tensorflow.keras.utils as ku\n"
      ],
      "id": "56091da1"
    },
    {
      "cell_type": "markdown",
      "metadata": {
        "id": "64ace7f3"
      },
      "source": [
        "Keras to-categorical function takes numerical arguments, that's why we need to convert the text labels to numerical values first. To achieve this, we'll define this funnction."
      ],
      "id": "64ace7f3"
    },
    {
      "cell_type": "code",
      "execution_count": 22,
      "metadata": {
        "id": "f4ed559f"
      },
      "outputs": [],
      "source": [
        "def encode_sentiments(sentiment):\n",
        "    if sentiment == \"negative\":\n",
        "        return 0\n",
        "    elif sentiment == \"neutral\":\n",
        "        return 1\n",
        "    elif sentiment == \"positive\":\n",
        "        return 2"
      ],
      "id": "f4ed559f"
    },
    {
      "cell_type": "code",
      "execution_count": 23,
      "metadata": {
        "id": "2f68be50"
      },
      "outputs": [],
      "source": [
        "label_encoding = {0: 'negative', 1: 'neutral', 2: 'positve'}"
      ],
      "id": "2f68be50"
    },
    {
      "cell_type": "code",
      "execution_count": 24,
      "metadata": {
        "id": "ca7c21c9"
      },
      "outputs": [],
      "source": [
        "sentiments_encoded = [encode_sentiments(sentiment) for sentiment in sentiments]"
      ],
      "id": "ca7c21c9"
    },
    {
      "cell_type": "code",
      "execution_count": 25,
      "metadata": {
        "colab": {
          "base_uri": "https://localhost:8080/"
        },
        "id": "887d57d2",
        "outputId": "eecb2415-c09a-421d-8615-c5df507cdbc5"
      },
      "outputs": [
        {
          "output_type": "stream",
          "name": "stdout",
          "text": [
            "['neutral' 'positive' 'positive' 'positive' 'positive' 'positive'\n",
            " 'positive' 'positive' 'neutral' 'positive']\n",
            "[1, 2, 2, 2, 2, 2, 2, 2, 1, 2]\n"
          ]
        }
      ],
      "source": [
        "print(sentiments[0:10])\n",
        "print(sentiments_encoded[0:10])"
      ],
      "id": "887d57d2"
    },
    {
      "cell_type": "code",
      "execution_count": 26,
      "metadata": {
        "id": "2d8ffb33"
      },
      "outputs": [],
      "source": [
        "labels = ku.to_categorical(sentiments_encoded, num_classes = 3)"
      ],
      "id": "2d8ffb33"
    },
    {
      "cell_type": "code",
      "execution_count": 27,
      "metadata": {
        "colab": {
          "base_uri": "https://localhost:8080/"
        },
        "id": "7847702c",
        "outputId": "e8217ee5-3fda-4993-88c2-5384ff64cd84"
      },
      "outputs": [
        {
          "output_type": "stream",
          "name": "stdout",
          "text": [
            "[[0. 1. 0.]\n",
            " [0. 0. 1.]\n",
            " [0. 0. 1.]\n",
            " [0. 0. 1.]\n",
            " [0. 0. 1.]\n",
            " [0. 0. 1.]\n",
            " [0. 0. 1.]\n",
            " [0. 0. 1.]\n",
            " [0. 1. 0.]\n",
            " [0. 0. 1.]\n",
            " [0. 0. 1.]\n",
            " [0. 1. 0.]\n",
            " [0. 0. 1.]\n",
            " [0. 0. 1.]\n",
            " [0. 0. 1.]\n",
            " [0. 0. 1.]\n",
            " [1. 0. 0.]\n",
            " [1. 0. 0.]\n",
            " [0. 0. 1.]\n",
            " [0. 1. 0.]]\n"
          ]
        },
        {
          "output_type": "execute_result",
          "data": {
            "text/plain": [
              "array(['neutral', 'positive', 'positive', 'positive', 'positive',\n",
              "       'positive', 'positive', 'positive', 'neutral', 'positive',\n",
              "       'positive', 'neutral', 'positive', 'positive', 'positive',\n",
              "       'positive', 'negative', 'negative', 'positive', 'neutral'],\n",
              "      dtype=object)"
            ]
          },
          "metadata": {},
          "execution_count": 27
        }
      ],
      "source": [
        "print(labels[0:20])\n",
        "sentiments[0:20]"
      ],
      "id": "7847702c"
    },
    {
      "cell_type": "markdown",
      "metadata": {
        "id": "defa224e"
      },
      "source": [
        "## Cleaning of the review texts"
      ],
      "id": "defa224e"
    },
    {
      "cell_type": "code",
      "execution_count": 28,
      "metadata": {
        "colab": {
          "base_uri": "https://localhost:8080/"
        },
        "id": "14fdc163",
        "outputId": "a07c4d10-8996-43fd-95ce-d16016b596aa"
      },
      "outputs": [
        {
          "output_type": "stream",
          "name": "stdout",
          "text": [
            "I am really really impressed by this product.\n",
            "I am very very impressed by this product.\n"
          ]
        }
      ],
      "source": [
        "test_str = \"I am really really impressed by this product.\"\n",
        "print(test_str)\n",
        "old_pattern = \"really\"\n",
        "new_pattern = \"very\"\n",
        "new_str = re.sub(old_pattern, new_pattern, test_str)\n",
        "print(new_str)"
      ],
      "id": "14fdc163"
    },
    {
      "cell_type": "code",
      "execution_count": 29,
      "metadata": {
        "colab": {
          "base_uri": "https://localhost:8080/"
        },
        "id": "48231ae0",
        "outputId": "34210125-04ce-4b4d-cc01-54c7ca8e48ac"
      },
      "outputs": [
        {
          "output_type": "stream",
          "name": "stdout",
          "text": [
            "Python 3.8\n",
            "Python <digit>.<digit>\n"
          ]
        }
      ],
      "source": [
        "test_str = \"Python 3.8\"\n",
        "print(test_str)\n",
        "old_pattern = r'\\d'\n",
        "new_pattern = '<digit>'\n",
        "new_str = re.sub(old_pattern, new_pattern, test_str)\n",
        "print(new_str)"
      ],
      "id": "48231ae0"
    },
    {
      "cell_type": "markdown",
      "metadata": {
        "id": "fefbf250"
      },
      "source": [
        "### Remove hyperlinks"
      ],
      "id": "fefbf250"
    },
    {
      "cell_type": "code",
      "execution_count": 30,
      "metadata": {
        "colab": {
          "base_uri": "https://localhost:8080/"
        },
        "id": "c9afc45f",
        "outputId": "9b8b29f6-4eaf-4969-c398-f20f54b4da31"
      },
      "outputs": [
        {
          "output_type": "stream",
          "name": "stdout",
          "text": [
            "Visit https://www.amazon.com for more information on this.\n",
            "Visit   for more information on this.\n"
          ]
        }
      ],
      "source": [
        "test_str = \"Visit https://www.amazon.com for more information on this.\"\n",
        "test_pattern = r'http\\S+'\n",
        "print(test_str)\n",
        "new_str = re.sub(test_pattern, \" \", test_str)\n",
        "print(new_str)"
      ],
      "id": "c9afc45f"
    },
    {
      "cell_type": "code",
      "execution_count": 31,
      "metadata": {
        "id": "c7e79e2d"
      },
      "outputs": [],
      "source": [
        "def remove_hyperlinks(text):\n",
        "    pattern_for_hyperlink = r'http\\S+'\n",
        "    return re.sub(pattern_for_hyperlink, \" \", text)"
      ],
      "id": "c7e79e2d"
    },
    {
      "cell_type": "code",
      "execution_count": 32,
      "metadata": {
        "id": "f5aa3513"
      },
      "outputs": [],
      "source": [
        "reviews = [remove_hyperlinks(review) for review in reviews]"
      ],
      "id": "f5aa3513"
    },
    {
      "cell_type": "code",
      "execution_count": 33,
      "metadata": {
        "colab": {
          "base_uri": "https://localhost:8080/"
        },
        "id": "06fe155a",
        "outputId": "ab9a1fbc-d838-46d9-a2de-b2df98580970"
      },
      "outputs": [
        {
          "output_type": "execute_result",
          "data": {
            "text/plain": [
              "['I order 3 of them and one of the item is bad quality. Is missing backup spring so I have to put a pcs of aluminum to make the battery work.',\n",
              " 'Bulk is always the less expensive way to go for products like these',\n",
              " 'Well they are not Duracell but for the price i am happy.',\n",
              " 'Seem to work as well as name brand batteries at a much better price',\n",
              " 'These batteries are very long lasting the price is great.']"
            ]
          },
          "metadata": {},
          "execution_count": 33
        }
      ],
      "source": [
        "reviews[0:5]"
      ],
      "id": "06fe155a"
    },
    {
      "cell_type": "markdown",
      "metadata": {
        "id": "63609d57"
      },
      "source": [
        "### Expand contracted words"
      ],
      "id": "63609d57"
    },
    {
      "cell_type": "code",
      "execution_count": 34,
      "metadata": {
        "id": "041ce721"
      },
      "outputs": [],
      "source": [
        "def remove_contracted_words(text):\n",
        "    text = re.sub(r\"won't\", \"will not\", text)\n",
        "    text = re.sub(r\"can\\'t\", \"can not\", text)\n",
        "    text = re.sub(r\"n\\'t\", \" not\", text)\n",
        "    text = re.sub(r\"\\'re\", \" are\", text)\n",
        "    text = re.sub(r\"\\'s\", \" is\", text)\n",
        "    text = re.sub(r\"\\'d\", \" would\", text)\n",
        "    text = re.sub(r\"\\'ll\", \" will\", text)\n",
        "    text = re.sub(r\"\\'t\", \" not\", text)\n",
        "    text = re.sub(r\"\\'ve\", \" have\", text)\n",
        "    text = re.sub(r\"\\'m\", \" am\", text)\n",
        "    return text"
      ],
      "id": "041ce721"
    },
    {
      "cell_type": "code",
      "execution_count": 35,
      "metadata": {
        "colab": {
          "base_uri": "https://localhost:8080/"
        },
        "id": "2e8bc327",
        "outputId": "6fb65fe8-69e4-4743-842a-0534b086e24d"
      },
      "outputs": [
        {
          "output_type": "stream",
          "name": "stdout",
          "text": [
            "I can't use this product. I don't recommend this product to anyone.\n",
            "I can not use this product. I do not recommend this product to anyone.\n"
          ]
        }
      ],
      "source": [
        "test_str = \"I can't use this product. I don't recommend this product to anyone.\"\n",
        "print(test_str)\n",
        "print(remove_contracted_words(test_str))"
      ],
      "id": "2e8bc327"
    },
    {
      "cell_type": "code",
      "execution_count": 36,
      "metadata": {
        "id": "b9f75d9f"
      },
      "outputs": [],
      "source": [
        "reviews = [remove_contracted_words(review) for review in reviews]"
      ],
      "id": "b9f75d9f"
    },
    {
      "cell_type": "code",
      "execution_count": 37,
      "metadata": {
        "colab": {
          "base_uri": "https://localhost:8080/"
        },
        "id": "b4f92567",
        "outputId": "7e70f6f2-4f6f-4880-9b6b-f20eafbc71e0"
      },
      "outputs": [
        {
          "output_type": "execute_result",
          "data": {
            "text/plain": [
              "['I order 3 of them and one of the item is bad quality. Is missing backup spring so I have to put a pcs of aluminum to make the battery work.',\n",
              " 'Bulk is always the less expensive way to go for products like these',\n",
              " 'Well they are not Duracell but for the price i am happy.',\n",
              " 'Seem to work as well as name brand batteries at a much better price',\n",
              " 'These batteries are very long lasting the price is great.']"
            ]
          },
          "metadata": {},
          "execution_count": 37
        }
      ],
      "source": [
        "reviews[0:5]"
      ],
      "id": "b4f92567"
    },
    {
      "cell_type": "markdown",
      "metadata": {
        "id": "0a7ee6fb"
      },
      "source": [
        "### Remove everything other than letters of alphabet"
      ],
      "id": "0a7ee6fb"
    },
    {
      "cell_type": "code",
      "execution_count": 38,
      "metadata": {
        "id": "d62f23e3"
      },
      "outputs": [],
      "source": [
        "def remove_non_letters(text):\n",
        "    antipattern = r'[^A-Za-z]+'\n",
        "    return re.sub(antipattern, \" \", text)"
      ],
      "id": "d62f23e3"
    },
    {
      "cell_type": "code",
      "execution_count": 39,
      "metadata": {
        "colab": {
          "base_uri": "https://localhost:8080/"
        },
        "id": "90fcca13",
        "outputId": "c5858597-b903-46c5-eb79-1f67ed056216"
      },
      "outputs": [
        {
          "output_type": "execute_result",
          "data": {
            "text/plain": [
              "['I order of them and one of the item is bad quality Is missing backup spring so I have to put a pcs of aluminum to make the battery work ',\n",
              " 'Bulk is always the less expensive way to go for products like these',\n",
              " 'Well they are not Duracell but for the price i am happy ',\n",
              " 'Seem to work as well as name brand batteries at a much better price',\n",
              " 'These batteries are very long lasting the price is great ']"
            ]
          },
          "metadata": {},
          "execution_count": 39
        }
      ],
      "source": [
        "reviews = [remove_non_letters(review) for review in reviews]\n",
        "reviews[0:5]"
      ],
      "id": "90fcca13"
    },
    {
      "cell_type": "code",
      "execution_count": 40,
      "metadata": {
        "colab": {
          "base_uri": "https://localhost:8080/"
        },
        "id": "047922c3",
        "outputId": "7123da09-fa76-42a7-c109-05c2b9f42b78"
      },
      "outputs": [
        {
          "output_type": "execute_result",
          "data": {
            "text/plain": [
              "['I', 'recommend', 'resolution', 'with', 'GB', 'of', 'RAM']"
            ]
          },
          "metadata": {},
          "execution_count": 40
        }
      ],
      "source": [
        "test_string = \"I recommend      resolution with   GB of RAM     \"\n",
        "test_string_list = test_string.split()\n",
        "test_string_list"
      ],
      "id": "047922c3"
    },
    {
      "cell_type": "code",
      "execution_count": 41,
      "metadata": {
        "colab": {
          "base_uri": "https://localhost:8080/",
          "height": 35
        },
        "id": "fd2c3888",
        "outputId": "08473133-2c42-4381-ce53-c38aa610642d"
      },
      "outputs": [
        {
          "output_type": "execute_result",
          "data": {
            "text/plain": [
              "'I recommend resolution with GB of RAM'"
            ],
            "application/vnd.google.colaboratory.intrinsic+json": {
              "type": "string"
            }
          },
          "metadata": {},
          "execution_count": 41
        }
      ],
      "source": [
        "' '.join(test_string_list)"
      ],
      "id": "fd2c3888"
    },
    {
      "cell_type": "code",
      "execution_count": 42,
      "metadata": {
        "colab": {
          "base_uri": "https://localhost:8080/",
          "height": 35
        },
        "id": "6de9a5c2",
        "outputId": "13fbf621-50c0-4b29-e49f-b0c26028d100"
      },
      "outputs": [
        {
          "output_type": "execute_result",
          "data": {
            "text/plain": [
              "'I do not like this product'"
            ],
            "application/vnd.google.colaboratory.intrinsic+json": {
              "type": "string"
            }
          },
          "metadata": {},
          "execution_count": 42
        }
      ],
      "source": [
        "test_string = \"       I do not like this product     \"\n",
        "test_string.strip()"
      ],
      "id": "6de9a5c2"
    },
    {
      "cell_type": "code",
      "execution_count": 43,
      "metadata": {
        "colab": {
          "base_uri": "https://localhost:8080/",
          "height": 35
        },
        "id": "d0e992a2",
        "outputId": "44572548-2dd8-4b91-c06f-00e0bd375e40"
      },
      "outputs": [
        {
          "output_type": "execute_result",
          "data": {
            "text/plain": [
              "'i did not like deliver package provided by amazon'"
            ],
            "application/vnd.google.colaboratory.intrinsic+json": {
              "type": "string"
            }
          },
          "metadata": {},
          "execution_count": 43
        }
      ],
      "source": [
        "test_string = \"I did not like Deliver Package provided by AMAZON\"\n",
        "test_string.lower()"
      ],
      "id": "d0e992a2"
    },
    {
      "cell_type": "code",
      "execution_count": 44,
      "metadata": {
        "id": "4e217935"
      },
      "outputs": [],
      "source": [
        "def remove_spaces_and_convert_to_Lowercase(text):\n",
        "    return ' '.join(text.split()).strip().lower()"
      ],
      "id": "4e217935"
    },
    {
      "cell_type": "code",
      "execution_count": 45,
      "metadata": {
        "colab": {
          "base_uri": "https://localhost:8080/"
        },
        "id": "9fb4165c",
        "outputId": "d4bac5ea-7ade-4cb0-dda9-abd489f868e5"
      },
      "outputs": [
        {
          "output_type": "execute_result",
          "data": {
            "text/plain": [
              "['i order of them and one of the item is bad quality is missing backup spring so i have to put a pcs of aluminum to make the battery work',\n",
              " 'bulk is always the less expensive way to go for products like these',\n",
              " 'well they are not duracell but for the price i am happy',\n",
              " 'seem to work as well as name brand batteries at a much better price',\n",
              " 'these batteries are very long lasting the price is great']"
            ]
          },
          "metadata": {},
          "execution_count": 45
        }
      ],
      "source": [
        "reviews = [remove_spaces_and_convert_to_Lowercase(review) for review in reviews]\n",
        "reviews[0:5]"
      ],
      "id": "9fb4165c"
    },
    {
      "cell_type": "markdown",
      "metadata": {
        "id": "51fcaa08"
      },
      "source": [
        "## Tokenization"
      ],
      "id": "51fcaa08"
    },
    {
      "cell_type": "code",
      "execution_count": 46,
      "metadata": {
        "id": "589d53d1"
      },
      "outputs": [],
      "source": [
        "from tensorflow.keras.preprocessing.text import Tokenizer"
      ],
      "id": "589d53d1"
    },
    {
      "cell_type": "code",
      "execution_count": 47,
      "metadata": {
        "id": "87b0688a"
      },
      "outputs": [],
      "source": [
        "VOCAB_SIZE = 30000\n",
        "UNK_TOK = '<UNK>'"
      ],
      "id": "87b0688a"
    },
    {
      "cell_type": "code",
      "source": [],
      "metadata": {
        "id": "3x-eBEnuxOB0"
      },
      "id": "3x-eBEnuxOB0",
      "execution_count": null,
      "outputs": []
    },
    {
      "cell_type": "code",
      "execution_count": 48,
      "metadata": {
        "id": "f0a1b946"
      },
      "outputs": [],
      "source": [
        "tokenizer = Tokenizer(num_words = VOCAB_SIZE, oov_token=UNK_TOK)"
      ],
      "id": "f0a1b946"
    },
    {
      "cell_type": "code",
      "execution_count": 49,
      "metadata": {
        "id": "73cfa3f9"
      },
      "outputs": [],
      "source": [
        "tokenizer.fit_on_texts(reviews)"
      ],
      "id": "73cfa3f9"
    },
    {
      "cell_type": "code",
      "execution_count": 50,
      "metadata": {
        "id": "da676bd6"
      },
      "outputs": [],
      "source": [
        "sequences = tokenizer.texts_to_sequences(reviews)"
      ],
      "id": "da676bd6"
    },
    {
      "cell_type": "markdown",
      "source": [
        "Tokenize the sentences are sequences."
      ],
      "metadata": {
        "id": "X3Bx2hpNVkOB"
      },
      "id": "X3Bx2hpNVkOB"
    },
    {
      "cell_type": "code",
      "execution_count": 51,
      "metadata": {
        "colab": {
          "base_uri": "https://localhost:8080/"
        },
        "id": "eaf795cb",
        "outputId": "a9851a2b-e68c-4ab1-f814-dd483decf8c5"
      },
      "outputs": [
        {
          "output_type": "stream",
          "name": "stdout",
          "text": [
            "[3, 313, 14, 38, 4, 42, 14, 2, 252, 9, 350, 92, 9, 1348, 1410, 2172, 28, 3, 17, 5, 177, 8, 3575, 14, 3945, 5, 240, 2, 64, 55]\n",
            "[138, 5, 55, 16, 53, 16, 104, 96, 15, 47, 8, 82, 88, 25]\n",
            "i order of them and one of the item is bad quality is missing backup spring so i have to put a pcs of aluminum to make the battery work\n",
            "seem to work as well as name brand batteries at a much better price\n"
          ]
        }
      ],
      "source": [
        "print(sequences[0])\n",
        "print(sequences[3])\n",
        "print(reviews[0])\n",
        "print(reviews[3])"
      ],
      "id": "eaf795cb"
    },
    {
      "cell_type": "markdown",
      "metadata": {
        "id": "085f5fa9"
      },
      "source": [
        "## Padding"
      ],
      "id": "085f5fa9"
    },
    {
      "cell_type": "code",
      "execution_count": 52,
      "metadata": {
        "id": "9affdbf8"
      },
      "outputs": [],
      "source": [
        "from tensorflow.keras.preprocessing.sequence import pad_sequences"
      ],
      "id": "9affdbf8"
    },
    {
      "cell_type": "code",
      "execution_count": 53,
      "metadata": {
        "id": "a20b1520"
      },
      "outputs": [],
      "source": [
        "MAX_LEN = 32 # 32 words in my review"
      ],
      "id": "a20b1520"
    },
    {
      "cell_type": "code",
      "execution_count": 54,
      "metadata": {
        "id": "48b4262c"
      },
      "outputs": [],
      "source": [
        "padded_sequences = np.array(pad_sequences(sequences,\n",
        "                                          maxlen=MAX_LEN,\n",
        "                                          padding='post',\n",
        "                                          truncating='post'))"
      ],
      "id": "48b4262c"
    },
    {
      "cell_type": "markdown",
      "source": [
        "### All input sizes need to be the same. So add padding - which can be at the end or beginning."
      ],
      "metadata": {
        "id": "dd5Wt0QwXCkW"
      },
      "id": "dd5Wt0QwXCkW"
    },
    {
      "cell_type": "code",
      "execution_count": 55,
      "metadata": {
        "colab": {
          "base_uri": "https://localhost:8080/"
        },
        "id": "de79eaa6",
        "outputId": "ef9a3c0f-352c-45f8-b95e-a5fde05e6846"
      },
      "outputs": [
        {
          "output_type": "stream",
          "name": "stdout",
          "text": [
            "[   3  313   14   38    4   42   14    2  252    9  350   92    9 1348\n",
            " 1410 2172   28    3   17    5  177    8 3575   14 3945    5  240    2\n",
            "   64   55    0    0]\n",
            "[532   9 181   2 216 209 167   5 137   7 296  51  30   0   0   0   0   0\n",
            "   0   0   0   0   0   0   0   0   0   0   0   0   0   0]\n",
            "[138   5  55  16  53  16 104  96  15  47   8  82  88  25   0   0   0   0\n",
            "   0   0   0   0   0   0   0   0   0   0   0   0   0   0]\n"
          ]
        }
      ],
      "source": [
        "print(padded_sequences[0])\n",
        "print(padded_sequences[1])\n",
        "print(padded_sequences[3])"
      ],
      "id": "de79eaa6"
    },
    {
      "cell_type": "markdown",
      "source": [
        "### The above tokens is the input for our model.\n",
        "Word embeddings - vector forms (1D or multidimensional number or metrics), words with same contextual meanings (ie. King, Queen)"
      ],
      "metadata": {
        "id": "v4xPmpjxXq4Q"
      },
      "id": "v4xPmpjxXq4Q"
    },
    {
      "cell_type": "markdown",
      "metadata": {
        "id": "98c0170f"
      },
      "source": [
        "## Create the model"
      ],
      "id": "98c0170f"
    },
    {
      "cell_type": "markdown",
      "source": [
        " multi-class classification out, (neg, pos, neutral) - create a sigmoid - returns a value between 0 and 1.\n",
        "\n",
        " Hidden layers in the nn model typically use a non-linear relu function. Output layer used sigmoid or tan. Input layer does not use a activation function."
      ],
      "metadata": {
        "id": "jKNXeqcVY1e_"
      },
      "id": "jKNXeqcVY1e_"
    },
    {
      "cell_type": "code",
      "execution_count": 56,
      "metadata": {
        "id": "316a2da1"
      },
      "outputs": [],
      "source": [
        "from tensorflow.keras.models import Sequential\n",
        "from tensorflow.keras.layers import Embedding, Bidirectional, SimpleRNN, Flatten, Dense"
      ],
      "id": "316a2da1"
    },
    {
      "cell_type": "markdown",
      "source": [
        "vocab size = 16 - a multiple of this 2,3, 4 etc it the RNN(64, parameter\n",
        "input layer is size 16 -\n",
        "\n",
        "64 units or number of neurons in the network\n",
        "\n",
        "RNN - bidirectional network\n",
        "\n",
        "Flattening is when converting n-dimensional vector to one-dimensional vector"
      ],
      "metadata": {
        "id": "G-nUZ8MPar4Z"
      },
      "id": "G-nUZ8MPar4Z"
    },
    {
      "cell_type": "code",
      "execution_count": 60,
      "metadata": {
        "id": "802eee19"
      },
      "outputs": [],
      "source": [
        "model = Sequential()\n",
        "model.add(Embedding(VOCAB_SIZE, 16, input_length=MAX_LEN))\n",
        "model.add(Bidirectional(SimpleRNN(64, return_sequences=True)))\n",
        "model.add(Bidirectional(SimpleRNN(64)))\n",
        "model.add(Flatten())\n",
        "model.add(Dense(24, activation='relu'))\n",
        "model.add(Dense(3, activation='softmax'))"
      ],
      "id": "802eee19"
    },
    {
      "cell_type": "code",
      "execution_count": 61,
      "metadata": {
        "id": "842bc392"
      },
      "outputs": [],
      "source": [
        "model.compile(optimizer='adam', loss='categorical_crossentropy', metrics=['accuracy'])"
      ],
      "id": "842bc392"
    },
    {
      "cell_type": "code",
      "execution_count": 59,
      "metadata": {
        "colab": {
          "base_uri": "https://localhost:8080/"
        },
        "id": "470aff5c",
        "outputId": "430ed494-5a50-4d30-83f7-6c4a0db27b63"
      },
      "outputs": [
        {
          "output_type": "stream",
          "name": "stdout",
          "text": [
            "Model: \"sequential\"\n",
            "_________________________________________________________________\n",
            " Layer (type)                Output Shape              Param #   \n",
            "=================================================================\n",
            " embedding (Embedding)       (None, 32, 16)            480000    \n",
            "                                                                 \n",
            " bidirectional (Bidirection  (None, 32, 128)           10368     \n",
            " al)                                                             \n",
            "                                                                 \n",
            " bidirectional_1 (Bidirecti  (None, 128)               24704     \n",
            " onal)                                                           \n",
            "                                                                 \n",
            " flatten (Flatten)           (None, 128)               0         \n",
            "                                                                 \n",
            " dense (Dense)               (None, 24)                3096      \n",
            "                                                                 \n",
            " dense_1 (Dense)             (None, 3)                 75        \n",
            "                                                                 \n",
            "=================================================================\n",
            "Total params: 518243 (1.98 MB)\n",
            "Trainable params: 518243 (1.98 MB)\n",
            "Non-trainable params: 0 (0.00 Byte)\n",
            "_________________________________________________________________\n"
          ]
        }
      ],
      "source": [
        "model.summary()"
      ],
      "id": "470aff5c"
    },
    {
      "cell_type": "markdown",
      "metadata": {
        "id": "820b1b70"
      },
      "source": [
        "## Model training"
      ],
      "id": "820b1b70"
    },
    {
      "cell_type": "markdown",
      "source": [
        "Training set of 80% and Test or Validation set is 20%\n",
        "\n",
        "The difference between test and validation set - validation set helps with overfitting or overtrained the model.\n",
        "\n",
        "Estimate of parameters - and estimate of losses with validation split\n",
        "\n",
        "Accuracy increases as the number of epochs increases."
      ],
      "metadata": {
        "id": "AywX-xc4b7Oi"
      },
      "id": "AywX-xc4b7Oi"
    },
    {
      "cell_type": "code",
      "execution_count": 62,
      "metadata": {
        "colab": {
          "base_uri": "https://localhost:8080/"
        },
        "id": "f3dec5a5",
        "scrolled": false,
        "outputId": "22801025-2e70-497f-bad1-400b5e3e3691"
      },
      "outputs": [
        {
          "output_type": "stream",
          "name": "stdout",
          "text": [
            "Epoch 1/10\n",
            "709/709 [==============================] - 39s 48ms/step - loss: 0.3134 - accuracy: 0.9041 - val_loss: 0.2103 - val_accuracy: 0.9331\n",
            "Epoch 2/10\n",
            "709/709 [==============================] - 30s 43ms/step - loss: 0.2119 - accuracy: 0.9297 - val_loss: 0.1646 - val_accuracy: 0.9478\n",
            "Epoch 3/10\n",
            "709/709 [==============================] - 32s 45ms/step - loss: 0.1557 - accuracy: 0.9493 - val_loss: 0.1431 - val_accuracy: 0.9575\n",
            "Epoch 4/10\n",
            "709/709 [==============================] - 31s 43ms/step - loss: 0.1182 - accuracy: 0.9615 - val_loss: 0.1138 - val_accuracy: 0.9661\n",
            "Epoch 5/10\n",
            "709/709 [==============================] - 31s 44ms/step - loss: 0.0829 - accuracy: 0.9737 - val_loss: 0.1074 - val_accuracy: 0.9725\n",
            "Epoch 6/10\n",
            "709/709 [==============================] - 31s 44ms/step - loss: 0.0708 - accuracy: 0.9769 - val_loss: 0.0998 - val_accuracy: 0.9764\n",
            "Epoch 7/10\n",
            "709/709 [==============================] - 33s 46ms/step - loss: 0.0598 - accuracy: 0.9818 - val_loss: 0.1003 - val_accuracy: 0.9764\n",
            "Epoch 8/10\n",
            "709/709 [==============================] - 31s 43ms/step - loss: 0.0550 - accuracy: 0.9831 - val_loss: 0.0924 - val_accuracy: 0.9792\n",
            "Epoch 9/10\n",
            "709/709 [==============================] - 30s 43ms/step - loss: 0.0450 - accuracy: 0.9857 - val_loss: 0.0953 - val_accuracy: 0.9818\n",
            "Epoch 10/10\n",
            "709/709 [==============================] - 31s 43ms/step - loss: 0.0412 - accuracy: 0.9866 - val_loss: 0.1096 - val_accuracy: 0.9769\n"
          ]
        },
        {
          "output_type": "execute_result",
          "data": {
            "text/plain": [
              "<keras.src.callbacks.History at 0x7f486873c4f0>"
            ]
          },
          "metadata": {},
          "execution_count": 62
        }
      ],
      "source": [
        "model.fit(padded_sequences, labels, epochs=10, validation_split=0.2)"
      ],
      "id": "f3dec5a5"
    },
    {
      "cell_type": "markdown",
      "metadata": {
        "id": "2a03ad28"
      },
      "source": [
        "## Sentiment prediction using trained model"
      ],
      "id": "2a03ad28"
    },
    {
      "cell_type": "code",
      "execution_count": 70,
      "metadata": {
        "id": "030af1d7"
      },
      "outputs": [],
      "source": [
        "positive_sample = 'ws husband and uncle they \\\n",
        "loved it and how easy they are to use with fantastic featuresi gave this as a christmas gift to my inla'\n",
        "\n",
        "negative_sample = 'if ads dont bother you then this may be a decent device purchased this \\\n",
        "for my kid and it was loaded down with so much spam it kept loading it up making \\\n",
        "it slow and laggy plus the carrasoul loadout makes it hard to navigate for kids \\\n",
        "not very kid friendly oh you can pay to remove the ads but it wont remove them all \\\n",
        "buy the samsung better everything'\n",
        "\n",
        "neutral_sample='it is ok'"
      ],
      "id": "030af1d7"
    },
    {
      "cell_type": "code",
      "execution_count": 71,
      "metadata": {
        "id": "3245beea"
      },
      "outputs": [],
      "source": [
        "sample_sequence = tokenizer.texts_to_sequences([neutral_sample])[0]\n",
        "sample_sequence_padded = pad_sequences([sample_sequence],\n",
        "                                       maxlen=MAX_LEN,\n",
        "                                       padding='post',\n",
        "                                       truncating='post')"
      ],
      "id": "3245beea"
    },
    {
      "cell_type": "code",
      "execution_count": 72,
      "metadata": {
        "id": "ItpG4PovoJ99"
      },
      "outputs": [],
      "source": [
        "label_encoding={0:'Negative', 1:'Neutral', 2:'Positive'}"
      ],
      "id": "ItpG4PovoJ99"
    },
    {
      "cell_type": "code",
      "execution_count": 75,
      "metadata": {
        "colab": {
          "base_uri": "https://localhost:8080/"
        },
        "id": "d3bfabc9",
        "outputId": "0767c86b-7c17-456f-cd33-3cb7cbaa82c3"
      },
      "outputs": [
        {
          "output_type": "stream",
          "name": "stdout",
          "text": [
            "[[0.    0.033 0.967]]\n",
            "Review: it is ok\n",
            "Sentiment: Positive\n"
          ]
        }
      ],
      "source": [
        "from sklearn.preprocessing import LabelEncoder\n",
        "\n",
        "predictions = model.predict(sample_sequence_padded, verbose=0)\n",
        "print(np.round(predictions, 3))\n",
        "predicted_label = np.argmax(predictions, axis=1)[0]\n",
        "print(\"Review:\", neutral_sample)\n",
        "print(\"Sentiment:\", label_encoding[predicted_label])"
      ],
      "id": "d3bfabc9"
    },
    {
      "cell_type": "code",
      "source": [],
      "metadata": {
        "id": "AMBvTnhB3EHI"
      },
      "id": "AMBvTnhB3EHI",
      "execution_count": null,
      "outputs": []
    }
  ],
  "metadata": {
    "colab": {
      "provenance": []
    },
    "kernelspec": {
      "display_name": "Python 3 (ipykernel)",
      "language": "python",
      "name": "python3"
    },
    "language_info": {
      "codemirror_mode": {
        "name": "ipython",
        "version": 3
      },
      "file_extension": ".py",
      "mimetype": "text/x-python",
      "name": "python",
      "nbconvert_exporter": "python",
      "pygments_lexer": "ipython3",
      "version": "3.10.11"
    }
  },
  "nbformat": 4,
  "nbformat_minor": 5
}